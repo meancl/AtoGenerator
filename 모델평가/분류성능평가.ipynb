{
 "cells": [
  {
   "cell_type": "code",
   "execution_count": 1,
   "metadata": {},
   "outputs": [],
   "source": [
    "import tensorflow as tf\n",
    "from sqlalchemy import create_engine\n",
    "import sqlalchemy as db\n",
    "import pandas as pd\n",
    "import numpy as np\n",
    "from tensorflow.python.client import device_lib\n",
    "from keras.models import load_model\n",
    "import gc\n",
    "import onnx\n",
    "import onnxruntime as rt\n",
    "\n",
    "from mclLib.featurenames import *\n",
    "from mclLib.cleaner import *\n",
    "from mclLib.scaler import *\n",
    "from mclLib.ftploader import *\n",
    "from mclLib.modelpostfix import *\n",
    "from mclLib.tester import *\n",
    "from mclLib.server_info import *"
   ]
  },
  {
   "cell_type": "code",
   "execution_count": 2,
   "metadata": {},
   "outputs": [
    {
     "name": "stdout",
     "output_type": "stream",
     "text": [
      "[name: \"/device:CPU:0\"\n",
      "device_type: \"CPU\"\n",
      "memory_limit: 268435456\n",
      "locality {\n",
      "}\n",
      "incarnation: 15358273372371113772\n",
      "xla_global_id: -1\n",
      "]\n"
     ]
    }
   ],
   "source": [
    "print(device_lib.list_local_devices())\n",
    "\n",
    "engine = create_engine(mysql_server_uri)\n",
    "conn = engine.connect()"
   ]
  },
  {
   "cell_type": "code",
   "execution_count": 3,
   "metadata": {},
   "outputs": [],
   "source": [
    "''' get db data '''\n",
    "br_full_data = pd.read_sql_table('buyreports', conn)"
   ]
  },
  {
   "cell_type": "code",
   "execution_count": 4,
   "metadata": {},
   "outputs": [],
   "source": [
    "''' db data filter '''\n",
    "get_filter = ( br_full_data['isAllBuyed'] == 1) & ( br_full_data['isAllSelled'] == 1) & (br_full_data['dTradeTime'] >= '2023-02-24')\n",
    "br = br_full_data[get_filter]"
   ]
  },
  {
   "cell_type": "code",
   "execution_count": 5,
   "metadata": {},
   "outputs": [],
   "source": [
    "''' get features name'''\n",
    "feature_names =  f_name_102\n",
    "feature_size = len(feature_names)\n",
    "\n",
    "''' set X data '''\n",
    "X = br[feature_names].to_numpy(dtype=np.float64)\n",
    "\n",
    "''' set y data '''\n",
    "y_condition = (br['fMaxPowerAfterBuyWhile30'] < 0.025)\n",
    "y = np.where(y_condition, 1, 0)\n",
    "\n",
    "y_test =y\n",
    "y_predict = []\n",
    "\n",
    "modelTester = ModelTester(engine, conn)"
   ]
  },
  {
   "cell_type": "code",
   "execution_count": 14,
   "metadata": {},
   "outputs": [],
   "source": [
    "# 테스트할 모델\n",
    "\n",
    "scale_yes_model_names = ['fMax10_40_Standard_ac_max']\n",
    "\n",
    "scale_no_model_names = ['rf_maxM_d3_v1', 'rf_maxM_d3_v2', 'rf_maxM_d2_v2', 'rf_maxM_d45_v2', 'rf_max30_d4_v2']\n"
   ]
  },
  {
   "cell_type": "code",
   "execution_count": 15,
   "metadata": {},
   "outputs": [],
   "source": [
    "ftp= FtpLoader(ftp_ip, ftp_port, ftp_id, ftp_pw)"
   ]
  },
  {
   "cell_type": "code",
   "execution_count": 16,
   "metadata": {},
   "outputs": [],
   "source": [
    "\n",
    "for idx, mn in enumerate(scale_yes_model_names):\n",
    "    ftp.download(mn+onnx_, onnx_path, just_onnx)\n",
    "\n",
    "    x_datas = modelTester.setFullScale(X, mn+onnx_)\n",
    "    \n",
    "    sess = rt.InferenceSession(onnx_path + mn + onnx_)\n",
    "    res = sess.run(['output'],{'input': x_datas})\n",
    "    y_predict.append(res[0])\n",
    "    \n",
    "    del sess\n",
    "    gc.collect()"
   ]
  },
  {
   "cell_type": "code",
   "execution_count": 17,
   "metadata": {},
   "outputs": [],
   "source": [
    "for idx, mn in enumerate(scale_no_model_names):\n",
    "    ftp.download(mn+onnx_, onnx_path, just_onnx)\n",
    "    \n",
    "    x_datas = X\n",
    "\n",
    "    # onnx_model = onnx.load(onnx_path + mn + onnx_)\n",
    "    sess = rt.InferenceSession(onnx_path + mn + onnx_)\n",
    "    res = sess.run(['output'],{'input': x_datas})\n",
    "    y_predict.append(res[0])\n",
    "    \n",
    "    del sess\n",
    "    gc.collect()"
   ]
  },
  {
   "cell_type": "code",
   "execution_count": 18,
   "metadata": {},
   "outputs": [
    {
     "name": "stdout",
     "output_type": "stream",
     "text": [
      "총량 :  88658\n",
      "0 :  25340 , 비율 :  28.58174107243565 (%)\n",
      "1 :  63318 , 비율 :  71.41825892756435 (%)\n",
      "\n",
      "============ predict 0 =============\n",
      "총 횟수 :  560 ,  타겟기준 :  0.0\n",
      "실제 0 :  356\n",
      "실제 1 :  204\n",
      "정답비율 :  63.57142857142857 (%)\n",
      "\n",
      "============ predict 1 =============\n",
      "총 횟수 :  61515 , 타겟기준 :  1.0\n",
      "실제 1 :  49460\n",
      "실제 0 :  12055\n",
      "정답비율 :  80.40315370234902 (%)\n",
      "\n"
     ]
    }
   ],
   "source": [
    "#################################\n",
    "############## test #############\n",
    "\n",
    "# suc_crit = 0.8 # 1이라 판정할 값의 기준\n",
    "# fl_crit = 0.5  # 0이라 판정할 값의 기준\n",
    "\n",
    "suc_ratio = 0.65 # 모델들에서 1이라 종합할 비율\n",
    "fail_ratio = 0.65 # 모델들에서 0이라 종합할 비율\n",
    "\n",
    "testClassification(y_test, y_predict, suc_pass_ratio=suc_ratio, fail_pass_ratio=fail_ratio)\n"
   ]
  },
  {
   "cell_type": "code",
   "execution_count": 19,
   "metadata": {},
   "outputs": [],
   "source": [
    "removeTestData(onnx_list=scale_yes_model_names+scale_no_model_names)"
   ]
  },
  {
   "cell_type": "code",
   "execution_count": null,
   "metadata": {},
   "outputs": [],
   "source": []
  }
 ],
 "metadata": {
  "kernelspec": {
   "display_name": "py310",
   "language": "python",
   "name": "python3"
  },
  "language_info": {
   "codemirror_mode": {
    "name": "ipython",
    "version": 3
   },
   "file_extension": ".py",
   "mimetype": "text/x-python",
   "name": "python",
   "nbconvert_exporter": "python",
   "pygments_lexer": "ipython3",
   "version": "3.10.9"
  },
  "orig_nbformat": 4
 },
 "nbformat": 4,
 "nbformat_minor": 2
}
