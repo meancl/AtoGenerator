{
 "cells": [
  {
   "cell_type": "code",
   "execution_count": 1,
   "metadata": {},
   "outputs": [],
   "source": [
    "import tensorflow as tf\n",
    "from sqlalchemy import create_engine\n",
    "import sqlalchemy as db\n",
    "import pandas as pd\n",
    "import numpy as np\n",
    "from tensorflow.python.client import device_lib\n",
    "from keras.models import load_model\n",
    "import gc\n",
    "import onnx\n",
    "import onnxruntime as rt\n",
    "\n",
    "from mclLib.featurenames import *\n",
    "from mclLib.cleaner import *\n",
    "from mclLib.scaler import *\n",
    "from mclLib.ftploader import *\n",
    "from mclLib.modelpostfix import *\n",
    "from mclLib.tester import *\n",
    "from mclLib.server_info import *"
   ]
  },
  {
   "cell_type": "code",
   "execution_count": 2,
   "metadata": {},
   "outputs": [
    {
     "name": "stdout",
     "output_type": "stream",
     "text": [
      "[name: \"/device:CPU:0\"\n",
      "device_type: \"CPU\"\n",
      "memory_limit: 268435456\n",
      "locality {\n",
      "}\n",
      "incarnation: 5442515185266207108\n",
      "xla_global_id: -1\n",
      "]\n"
     ]
    }
   ],
   "source": [
    "print(device_lib.list_local_devices())\n",
    "\n",
    "engine = create_engine(mysql_server_uri)\n",
    "conn = engine.connect()"
   ]
  },
  {
   "cell_type": "code",
   "execution_count": 3,
   "metadata": {},
   "outputs": [],
   "source": [
    "''' get db data '''\n",
    "br_full_data = pd.read_sql_table('buyreports', conn)"
   ]
  },
  {
   "cell_type": "code",
   "execution_count": 4,
   "metadata": {},
   "outputs": [],
   "source": [
    "''' db data filter '''\n",
    "get_filter = ( br_full_data['isAllBuyed'] == 1) & ( br_full_data['isAllSelled'] == 1) & (br_full_data['dTradeTime'] >= '2023-03-01')\n",
    "br = br_full_data[get_filter]"
   ]
  },
  {
   "cell_type": "code",
   "execution_count": 5,
   "metadata": {},
   "outputs": [],
   "source": [
    "''' get features name'''\n",
    "feature_names =  f_name_102\n",
    "feature_size = len(feature_names)\n",
    "\n",
    "''' set X data '''\n",
    "X = br[feature_names].to_numpy(dtype=np.float64)\n",
    "\n",
    "''' set y data '''\n",
    "y = br['fMaxPowerAfterBuyWhile30'].to_numpy()\n",
    "\n",
    "y_test = y\n",
    "y_predict = []\n",
    "\n",
    "modelTester = ModelTester(engine, conn)"
   ]
  },
  {
   "cell_type": "code",
   "execution_count": 6,
   "metadata": {},
   "outputs": [],
   "source": [
    "# 테스트할 모델\n",
    "\n",
    "scale_yes_model_names = [] \n",
    "\n",
    "scale_no_model_names = [ \n",
    "    'REG_RF_pow30_n20_md10'\n",
    "]\n"
   ]
  },
  {
   "cell_type": "code",
   "execution_count": 7,
   "metadata": {},
   "outputs": [],
   "source": [
    "ftp= FtpLoader(ftp_ip, ftp_port, ftp_id, ftp_pw)"
   ]
  },
  {
   "cell_type": "code",
   "execution_count": 8,
   "metadata": {},
   "outputs": [
    {
     "name": "stdout",
     "output_type": "stream",
     "text": [
      "C:/Users/MJ/source/repos/AtoGenerator/임시저장소/onnx/REG_RF_pow30_n20_md10.onnx\n"
     ]
    }
   ],
   "source": [
    "for idx, mn in enumerate(scale_no_model_names):\n",
    "    #ftp.download(mn+onnx_, onnx_path, just_onnx)\n",
    "    \n",
    "    print(onnx_path + mn + onnx_)\n",
    "    x_datas = X\n",
    "\n",
    "    # onnx_model = onnx.load(onnx_path + mn + onnx_)\n",
    "    sess = rt.InferenceSession(onnx_path + mn + onnx_)\n",
    "    res = sess.run(['output'],{'input': x_datas.astype(dtype=np.float32)})\n",
    "    y_predict.append(res[0])\n",
    "    \n",
    "    del sess\n",
    "    gc.collect()"
   ]
  },
  {
   "cell_type": "code",
   "execution_count": 12,
   "metadata": {},
   "outputs": [
    {
     "name": "stdout",
     "output_type": "stream",
     "text": [
      "회귀평가를 시작합니다...\n",
      "======================================\n",
      "len of models :  1\n",
      "suc_line : 1 (0.65)\n",
      "fail_line : 1 (0.9)\n",
      "crit value :  0.05\n",
      "======================================\n",
      "\n",
      "총량 :  153903\n",
      "0 :  21683 , 비율 :  14.08874420901477 (%)\n",
      "1 :  132220 , 비율 :  85.91125579098524 (%)\n",
      "\n",
      "============ predict 0 =============\n",
      "총 횟수 :  3809\n",
      "실제 0 :  1198\n",
      "실제 1 :  2611\n",
      "정답비율 :  31.45182462588606 (%)\n",
      "\n",
      "============ predict 1 =============\n",
      "총 횟수 :  150094\n",
      "실제 1 :  129609\n",
      "실제 0 :  20485\n",
      "정답비율 :  86.35188615134516 (%)\n",
      "\n"
     ]
    }
   ],
   "source": [
    "#################################\n",
    "############## test #############\n",
    "\n",
    "# suc_crit = 0.8 # 1이라 판정할 값의 기준\n",
    "# fl_crit = 0.5  # 0이라 판정할 값의 기준\n",
    "\n",
    "suc_ratio = 0.65 # 모델들에서 1이라 종합할 비율\n",
    "fail_ratio = .9 # 모델들에서 0이라 종합할 비율\n",
    "\n",
    "_, fal_li = testRegression(y_test, y_predict, crit_val=0.05, suc_pass_ratio=suc_ratio, fail_pass_ratio=fail_ratio)\n"
   ]
  },
  {
   "cell_type": "code",
   "execution_count": null,
   "metadata": {},
   "outputs": [],
   "source": []
  }
 ],
 "metadata": {
  "kernelspec": {
   "display_name": "py310",
   "language": "python",
   "name": "python3"
  },
  "language_info": {
   "codemirror_mode": {
    "name": "ipython",
    "version": 3
   },
   "file_extension": ".py",
   "mimetype": "text/x-python",
   "name": "python",
   "nbconvert_exporter": "python",
   "pygments_lexer": "ipython3",
   "version": "3.10.9"
  },
  "orig_nbformat": 4
 },
 "nbformat": 4,
 "nbformat_minor": 2
}
