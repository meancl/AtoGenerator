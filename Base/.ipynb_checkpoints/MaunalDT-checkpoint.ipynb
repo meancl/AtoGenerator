{
 "cells": [
  {
   "cell_type": "code",
   "execution_count": 5,
   "id": "9e7a3c50-7851-44e2-b77c-8312ba52df17",
   "metadata": {},
   "outputs": [],
   "source": [
    "class ManualDT:\n",
    "    def __init__(self, criterion='squared_error', \n",
    "                 splitter='best', max_depth=None,\n",
    "                 min_samples_split=2, min_samples_leaf=1,\n",
    "                 min_weight_fraction_leaf=0.0,\n",
    "                 max_features=None, random_state=None,\n",
    "                 max_leaf_nodes=None, min_impurity_decrease=0.0,\n",
    "                 ccp_alpha=0.0):\n",
    "        self.criterion = criterion\n",
    "        self.splitter = splitter\n",
    "        self.max_depth = max_depth\n",
    "        self.min_samples_split = min_samples_split\n",
    "        self.min_samples_leaf = min_samples_leaf\n",
    "        self.min_weight_fraction_leaf = min_weight_fraction_leaf\n",
    "        self.max_features = max_features\n",
    "        self.random_state = random_state\n",
    "        self.max_leaf_nodes = max_leaf_nodes\n",
    "        self.min_impurity_decrease = min_impurity_decrease\n",
    "        self.ccp_alpha = ccp_alpha\n",
    "        return"
   ]
  },
  {
   "cell_type": "code",
   "execution_count": 6,
   "id": "bbca2461-1102-44aa-85ed-f242468ae92e",
   "metadata": {},
   "outputs": [],
   "source": []
  },
  {
   "cell_type": "code",
   "execution_count": 8,
   "id": "2a1f3743-e443-4a70-8764-16b8e3b8d1b3",
   "metadata": {},
   "outputs": [
    {
     "data": {
      "text/plain": [
       "__main__.ManualDT"
      ]
     },
     "execution_count": 8,
     "metadata": {},
     "output_type": "execute_result"
    }
   ],
   "source": []
  },
  {
   "cell_type": "code",
   "execution_count": null,
   "id": "afe7e1ff-7700-4d45-a4c5-c7873607fdb7",
   "metadata": {},
   "outputs": [],
   "source": []
  }
 ],
 "metadata": {
  "kernelspec": {
   "display_name": "Python 3",
   "language": "python",
   "name": "python3"
  },
  "language_info": {
   "codemirror_mode": {
    "name": "ipython",
    "version": 3
   },
   "file_extension": ".py",
   "mimetype": "text/x-python",
   "name": "python",
   "nbconvert_exporter": "python",
   "pygments_lexer": "ipython3",
   "version": "3.8.8"
  }
 },
 "nbformat": 4,
 "nbformat_minor": 5
}
