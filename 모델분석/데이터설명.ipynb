{
 "cells": [
  {
   "cell_type": "markdown",
   "id": "4d6e663b-eb93-4ebb-9fbb-4c3eba485bdc",
   "metadata": {},
   "source": [
    "# 데이터 획득 및 설정"
   ]
  },
  {
   "cell_type": "code",
   "execution_count": 1,
   "id": "b990c0fc-a349-4d91-a368-f5d2724d69ad",
   "metadata": {},
   "outputs": [],
   "source": [
    "import pandas as pd\n",
    "import numpy as np\n",
    "from sqlalchemy import create_engine\n",
    "import seaborn as sns\n",
    "import matplotlib.pyplot as plt\n",
    "from sklearn.model_selection import train_test_split\n",
    "import graphviz\n",
    "import os\n",
    "from sklearn import tree, ensemble\n",
    "from sklearn.ensemble import RandomForestRegressor\n",
    "from sklearn.inspection import permutation_importance\n",
    "import shap\n",
    "from sklearn.feature_selection import chi2, SelectKBest, f_classif, mutual_info_classif, f_regression\n",
    "from sklearn.ensemble import RandomForestClassifier\n",
    "from sklearn.feature_selection import SelectFromModel\n",
    "from sklearn.feature_selection import VarianceThreshold\n",
    "\n",
    "from mylib.server_info import *\n",
    "\n",
    "os.environ[\"PATH\"] += os.pathsep + 'C:/Program Files/Graphviz/bin/' # windows에서 graphviz를 사용하기 위해 변수경로 설정 "
   ]
  },
  {
   "cell_type": "code",
   "execution_count": 2,
   "id": "dc24889c-cf5c-4f89-b1f7-407161d64f59",
   "metadata": {},
   "outputs": [],
   "source": [
    "engine = create_engine(mysql_server_uri)\n",
    "conn = engine.connect()"
   ]
  },
  {
   "cell_type": "code",
   "execution_count": 3,
   "id": "1018ef0d-c74d-49a2-ae99-c6aad87e79c0",
   "metadata": {},
   "outputs": [],
   "source": [
    "br_full_data = pd.read_sql_table('buyreports', conn)"
   ]
  },
  {
   "cell_type": "markdown",
   "id": "6a37afdd-74ec-4bbc-a7e3-be5a7894e7bb",
   "metadata": {},
   "source": [
    "# Filtering"
   ]
  },
  {
   "cell_type": "code",
   "execution_count": 4,
   "id": "6608fa50-6218-4185-ae8c-f388886a34e3",
   "metadata": {},
   "outputs": [],
   "source": [
    "# Filtering\n",
    "get_filter = ( br_full_data['isAllBuyed'] == 1) & ( br_full_data['isAllSelled'] == 1)\n",
    "br = br_full_data[get_filter]"
   ]
  },
  {
   "cell_type": "code",
   "execution_count": 6,
   "id": "5bc6058f-073a-482d-88cc-a5414b7033cb",
   "metadata": {},
   "outputs": [],
   "source": [
    "from mylib.featurenames import *\n",
    "feature_names = f_name_102\n",
    "\n",
    "feature_size = len(feature_names)\n",
    "feat_name = np.array(feature_names)\n",
    "features = feature_names"
   ]
  },
  {
   "cell_type": "code",
   "execution_count": null,
   "id": "1831dfb6-b2ab-4232-8c41-1415a9e7a1b1",
   "metadata": {},
   "outputs": [],
   "source": [
    "X = br[features].to_numpy(dtype=np.float64)"
   ]
  },
  {
   "cell_type": "code",
   "execution_count": null,
   "id": "c8565e8a-8ebc-4f69-b574-182d99423dbd",
   "metadata": {
    "tags": []
   },
   "outputs": [],
   "source": [
    "y_condition = (br['fMaxPowerAfterBuyWhile10'] >= 0.025)\n",
    "y = np.where(y_condition, 1, 0)\n"
   ]
  },
  {
   "cell_type": "code",
   "execution_count": null,
   "id": "0f29af6b",
   "metadata": {},
   "outputs": [],
   "source": [
    "y.dtype"
   ]
  },
  {
   "cell_type": "code",
   "execution_count": null,
   "id": "b906aa91-efd6-4fec-8bb2-272b81eaad40",
   "metadata": {},
   "outputs": [],
   "source": [
    "from mylib.scaler import *\n",
    "\n",
    "scale_method = ROBUST\n",
    "# 테스트 상 스케일 방법 중 Normalizer는 좋지 않다.\n",
    "modelTester = ModelTester(engine, conn)\n",
    "modelTester.setNpData(X)\n",
    "modelTester.setScaler(scale_method)\n",
    "modelTester.fitScale()\n",
    "X_scaled = modelTester.np_data"
   ]
  },
  {
   "cell_type": "code",
   "execution_count": null,
   "id": "0f0eb828",
   "metadata": {},
   "outputs": [],
   "source": [
    "X = X.astype(np.float32)"
   ]
  },
  {
   "cell_type": "markdown",
   "id": "cb7ec760-f390-42d5-ac7d-78123088bed5",
   "metadata": {},
   "source": [
    "# VarianceThreshold"
   ]
  },
  {
   "cell_type": "code",
   "execution_count": null,
   "id": "9052ec97-efa0-47b5-8bed-bd6d986888ab",
   "metadata": {},
   "outputs": [],
   "source": [
    "selector = VarianceThreshold(threshold=1)\n",
    "train_thresh = selector.fit(X_scaled)\n",
    "features_out = train_thresh.get_feature_names_out(features)\n",
    "\n",
    "print(features_out.shape)\n",
    "print(features_out)"
   ]
  },
  {
   "cell_type": "markdown",
   "id": "aea34979-16ae-45ba-8b3e-94591c90afb0",
   "metadata": {},
   "source": [
    "# SelectKBest"
   ]
  },
  {
   "cell_type": "code",
   "execution_count": null,
   "id": "1fc91b98-4095-47ba-b743-8838dc04b1a8",
   "metadata": {
    "tags": []
   },
   "outputs": [],
   "source": [
    "# 분석방법 \n",
    "#For classification: chi2, f_classif, mutual_info_classif"
   ]
  },
  {
   "cell_type": "code",
   "execution_count": null,
   "id": "831fc630-33e4-45e9-8417-7f725bcf5460",
   "metadata": {},
   "outputs": [],
   "source": [
    "selector = SelectKBest(score_func=f_classif, k=20)"
   ]
  },
  {
   "cell_type": "code",
   "execution_count": null,
   "id": "7e246a31-ac24-459f-bd9a-8f84dd7a03c0",
   "metadata": {},
   "outputs": [],
   "source": [
    "X_selected = selector.fit_transform(X, y)"
   ]
  },
  {
   "cell_type": "code",
   "execution_count": null,
   "id": "9c51ee73-0229-4416-900d-7a9e47ade46c",
   "metadata": {},
   "outputs": [],
   "source": [
    "\n",
    "## selector.get_support()\n",
    "selected_mask = selector.get_support()\n",
    "## 선택된 특성(변수)들\n",
    "selected_names = feat_name[selected_mask]\n",
    "## 선택되지 않은 특성(변수)들\n",
    "unselected_names = feat_name[~selected_mask]\n",
    "print('Selected names: ', selected_names, end='\\n\\n')\n",
    "print('Unselected names: ', unselected_names)"
   ]
  },
  {
   "cell_type": "markdown",
   "id": "28a00091-9e9e-48f6-9fcd-1b4066362dc7",
   "metadata": {},
   "source": [
    "# SelectFromModel"
   ]
  },
  {
   "cell_type": "code",
   "execution_count": null,
   "id": "6dccb15d-9abc-41d2-961e-6304fb4eaa7b",
   "metadata": {
    "tags": []
   },
   "outputs": [],
   "source": [
    "# will select those features which importance is greater than the mean importance of all the features by default\n",
    "sel = SelectFromModel(RandomForestClassifier(n_estimators = 100))\n",
    "sel.fit(X, y)\n",
    "\n",
    "selected_feat = feat_name[selector.get_support()]\n",
    "selected_feat"
   ]
  },
  {
   "cell_type": "markdown",
   "id": "13da7a85-bf0e-4607-a693-2bf1d37b2777",
   "metadata": {},
   "source": [
    "# Decision Tree - Classifer"
   ]
  },
  {
   "cell_type": "code",
   "execution_count": null,
   "id": "f661baba-bb41-42a8-84e2-043ce6dbcf63",
   "metadata": {},
   "outputs": [],
   "source": [
    "clf = tree.DecisionTreeClassifier(max_depth = 5)\n",
    "#clf = tree.ExtraTreeClassifier(max_depth= 5)\n",
    "clf = clf.fit(X, y)"
   ]
  },
  {
   "cell_type": "code",
   "execution_count": null,
   "id": "a42e3be0-b5ea-4095-9e40-ecee145ec110",
   "metadata": {},
   "outputs": [],
   "source": [
    "dot_data = tree.export_graphviz(clf,   # 의사결정나무 모형 대입\n",
    "                               out_file = None,  # file로 변환할 것인가\n",
    "                               feature_names = features,  # feature 이름\n",
    "                               class_names = np.array(['fail', 'suc']),  # target 이름\n",
    "                               filled = True,           # 그림에 색상을 넣을것인가\n",
    "                               rounded = True,          # 반올림을 진행할 것인가\n",
    "                               special_characters = True)   # 특수문자를 사용하나"
   ]
  },
  {
   "cell_type": "code",
   "execution_count": null,
   "id": "ecc33118-36b8-4503-9c02-2bc228f803ce",
   "metadata": {},
   "outputs": [],
   "source": [
    "graph = graphviz.Source(dot_data)\n",
    "graph"
   ]
  },
  {
   "cell_type": "markdown",
   "id": "bc6aeff1-b82d-4562-9794-585787de003b",
   "metadata": {},
   "source": [
    "# Random Forest"
   ]
  },
  {
   "cell_type": "markdown",
   "id": "815c4ec7-76dd-463a-aadd-0f30a8094e6d",
   "metadata": {},
   "source": [
    "#### Random Forest Built-in Feature Importance"
   ]
  },
  {
   "cell_type": "code",
   "execution_count": null,
   "id": "d7178c55-5a8f-4065-8014-147ada09d5a0",
   "metadata": {},
   "outputs": [],
   "source": [
    "rf = RandomForestClassifier(n_estimators=100, max_depth=5)\n",
    "rf.fit(X, y)"
   ]
  },
  {
   "cell_type": "code",
   "execution_count": null,
   "id": "62aaea62-af98-4fe3-9088-bddaa21685d1",
   "metadata": {},
   "outputs": [],
   "source": [
    "rf.feature_importances_ # 피처들의 중요도"
   ]
  },
  {
   "cell_type": "code",
   "execution_count": null,
   "id": "2e901129-0f6a-44c3-b2ce-ca1cfcbb1232",
   "metadata": {},
   "outputs": [],
   "source": [
    "# plt.figure(figsize=(20, 20))\n",
    "# plt.barh(feat_name, rf.feature_importances_)"
   ]
  },
  {
   "cell_type": "code",
   "execution_count": null,
   "id": "d0141cd3-5c6c-467e-8f37-a84c8e6bde50",
   "metadata": {},
   "outputs": [],
   "source": [
    "sorted_idx = rf.feature_importances_.argsort()\n",
    "plt.figure(figsize=(20, 20))\n",
    "plt.barh(feat_name[sorted_idx], rf.feature_importances_[sorted_idx])\n",
    "plt.xlabel(\"Random Forest Feature Importance\")"
   ]
  },
  {
   "cell_type": "markdown",
   "id": "9c117fe7-9c0b-4b04-bdda-2fe96b265a9f",
   "metadata": {},
   "source": [
    "#### Permutation Based Feature Importance (with scikit-learn)"
   ]
  },
  {
   "cell_type": "code",
   "execution_count": null,
   "id": "71e97b92-7882-4d10-bb7d-6a1cacc9b69d",
   "metadata": {},
   "outputs": [],
   "source": [
    "perm_importance = permutation_importance(rf, X, y)"
   ]
  },
  {
   "cell_type": "code",
   "execution_count": null,
   "id": "604908a7-ad67-443f-b3a7-8842d81494f0",
   "metadata": {},
   "outputs": [],
   "source": [
    "sorted_idx = perm_importance.importances_mean.argsort()\n",
    "plt.figure(figsize=(20, 20))\n",
    "plt.barh(feat_name[sorted_idx], perm_importance.importances_mean[sorted_idx])\n",
    "plt.xlabel(\"Permutation Importance\")"
   ]
  },
  {
   "cell_type": "markdown",
   "id": "630dc697-d3c0-48f9-bb5d-35e38449c102",
   "metadata": {},
   "source": [
    "#### Feature Importance Computed with SHAP Values"
   ]
  },
  {
   "cell_type": "markdown",
   "id": "67a075b6-2583-4467-84f4-0732e9e6e30d",
   "metadata": {},
   "source": [
    "Shap plot에 대해서  \n",
    "Ref : https://towardsdatascience.com/explain-any-models-with-the-shap-values-use-the-kernelexplainer-79de9464897a  \n",
    "Ref( Kernel Shap vs Tree Shap ) : https://towardsdatascience.com/kernelshap-vs-treeshap-e00f3b3a27db\n",
    "1. 요약플롯 summary_plot()\n",
    "2. 종속성플롯 : dependency_plot()\n",
    "3. 개별힘플롯 : force_plot(각각)\n",
    "4. 집합력플롯 : force_plot()"
   ]
  },
  {
   "cell_type": "code",
   "execution_count": null,
   "id": "18077b23-2d9e-4bb1-b95b-c9b4c93b6abf",
   "metadata": {},
   "outputs": [],
   "source": [
    "# shaKernelExplainer은 feature갯수에 따라 시간이 지수적으로 올라감\n",
    "rf2 = RandomForestClassifier(n_estimators=100)\n",
    "rf2.fit(X, y)\n",
    "explainer = shap.TreeExplainer(rf2) #트리가 아니고 선형회귀기반 중요도분석 KernelExplainer 단점 : 시간이 오래걸림, TreeExplainer도 오래걸림\n",
    "shap_values = explainer.shap_values(X) # X_test에 관한 각각의 중요도 변수들?? "
   ]
  },
  {
   "cell_type": "code",
   "execution_count": null,
   "id": "69263f38-0dae-4403-9323-1a250e616058",
   "metadata": {},
   "outputs": [],
   "source": [
    "shap.summary_plot(shap_values, X, plot_type=\"bar\", feature_names=feat_name) # plot_type  : 다양하게"
   ]
  },
  {
   "cell_type": "code",
   "execution_count": null,
   "id": "d827cede-f66b-408b-a408-cfcca6d4dfaa",
   "metadata": {},
   "outputs": [],
   "source": [
    "shap.summary_plot(shap_values, X, feature_names=feat_name)"
   ]
  },
  {
   "cell_type": "code",
   "execution_count": null,
   "id": "77e586a1-0ec2-41e6-ad36-fb264253da6f",
   "metadata": {},
   "outputs": [],
   "source": [
    "specific_var = \"fPlusCnt07\"\n",
    "shap.dependence_plot(specific_var, shap_values, X, feature_names=feat_name)"
   ]
  },
  {
   "cell_type": "code",
   "execution_count": null,
   "id": "24d38c81-2944-4dd3-8561-a06b4479a68e",
   "metadata": {},
   "outputs": [],
   "source": [
    "shap.initjs() # javascript 초기화 (graph 초기화)\n",
    "specific_start_row = 2\n",
    "specific_end_row = 3000"
   ]
  },
  {
   "cell_type": "code",
   "execution_count": null,
   "id": "5bb5bbb4-f608-4d05-946c-70ecb76e2f2c",
   "metadata": {},
   "outputs": [],
   "source": [
    "shap.force_plot(explainer.expected_value, shap_values[specific_start_row,:], X[specific_start_row,:],feature_names=feat_name)  "
   ]
  },
  {
   "cell_type": "code",
   "execution_count": null,
   "id": "0e4370ff-dc44-48ee-a948-226a36909e4e",
   "metadata": {},
   "outputs": [],
   "source": [
    "shap.force_plot(explainer.expected_value, shap_values[specific_start_row:,:], X[specific_start_row::,:], feature_names=feat_name)  "
   ]
  },
  {
   "cell_type": "code",
   "execution_count": null,
   "id": "2201739f-c40f-4519-b8a6-7e31d17d3619",
   "metadata": {},
   "outputs": [],
   "source": []
  }
 ],
 "metadata": {
  "kernelspec": {
   "display_name": "py310",
   "language": "python",
   "name": "python3"
  },
  "language_info": {
   "codemirror_mode": {
    "name": "ipython",
    "version": 3
   },
   "file_extension": ".py",
   "mimetype": "text/x-python",
   "name": "python",
   "nbconvert_exporter": "python",
   "pygments_lexer": "ipython3",
   "version": "3.10.9"
  },
  "vscode": {
   "interpreter": {
    "hash": "bf1fe234d2dc7ff1fed85eb32c73dcc3849854218a30c1cf2ea580a60115df07"
   }
  }
 },
 "nbformat": 4,
 "nbformat_minor": 5
}
